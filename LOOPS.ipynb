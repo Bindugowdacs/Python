{
 "cells": [
  {
   "cell_type": "raw",
   "id": "79b9b8cd",
   "metadata": {},
   "source": [
    "q1 :\n",
    "ineuron\n",
    "ineuron ineuron\n",
    "ineuron ineuron ineuron\n",
    "ineuron ineuron ineuron\n",
    "\n",
    "q2:\n",
    "            ineuron\n",
    "    ineuron        ineuron\n",
    "ineuron     ineuron       ineuron\n",
    "    ineuron        ineuron\n",
    "            ineuron\n",
    "        \n",
    "        \n",
    "q3:\n",
    "\"\"\"l = [[1,2,3,4],(2,3,4,5,6),(3,4,5,6,7), set([23,4,5,45,4,4,5,45,45,4,5]), \n",
    "     {'k1':'sudh','k2':'ineuron','k3':'kumar',3:6, 7:8},['ineuron','data science']]\"\"\"\n",
    "q3: try to extract all the list entity\n",
    "q4: all dict entities\n",
    "q5: all tuple entities\n",
    "q6: all numerical data it may be a part of dict key & values\n",
    "q7: try to give summation of all numeric data\n",
    "q8: filter out all the odd values out of all numeric data which is a part of list\n",
    "q9: extract 'ineuron' out of this data\n",
    "q10: find out number of occurances of all the data\n",
    "q11: find out number of keys in dict element\n",
    "q12: filter out all the str data\n",
    "q13: find out alphanumeric in data\n",
    "q14: find out multiplication of all the numeric values in the individual collection insider dataset\n",
    "q15: try to unwrap all the collection inside collection and create a flat list\n",
    "\n",
    "    "
   ]
  },
  {
   "cell_type": "code",
   "execution_count": 1,
   "id": "49273992",
   "metadata": {},
   "outputs": [
    {
     "name": "stdout",
     "output_type": "stream",
     "text": [
      "ineuron  \n",
      "\n",
      "ineuron  ineuron  \n",
      "\n",
      "ineuron  ineuron  ineuron  \n",
      "\n",
      "ineuron  ineuron  ineuron  ineuron  \n",
      "\n"
     ]
    }
   ],
   "source": [
    "#q1\n",
    "a = 4\n",
    "\n",
    "for i in range(a):\n",
    "    for j in range(0, i+1):\n",
    "        print(\"ineuron\", end = \"  \")\n",
    "    print(\"\\n\")"
   ]
  },
  {
   "cell_type": "code",
   "execution_count": 2,
   "id": "122f460e",
   "metadata": {},
   "outputs": [
    {
     "name": "stdout",
     "output_type": "stream",
     "text": [
      "              ineuron       \n",
      "       ineuron       ineuron       \n",
      "ineuron       ineuron       ineuron       \n",
      "       ineuron       ineuron       \n",
      "              ineuron       \n"
     ]
    }
   ],
   "source": [
    "#q2\n",
    "\n",
    "n = 3\n",
    "\n",
    "for i in range(n):\n",
    "    print(\"       \" *(n-i-1)+'ineuron       '*(i+1))\n",
    "    \n",
    "for i in range(n-1):\n",
    "    print(\"       \"*(i+1)+'ineuron       '*(n-i-1))\n"
   ]
  },
  {
   "cell_type": "code",
   "execution_count": 3,
   "id": "ba8e506f",
   "metadata": {},
   "outputs": [],
   "source": [
    "l = [[1,2,3,4],(2,3,4,5,6),(3,4,5,6,7), set([23,4,5,45,4,4,5,45,45,4,5]), \n",
    "     {'k1':'sudh','k2':'ineuron','k3':'kumar',3:6, 7:8},['ineuron','data science']]"
   ]
  },
  {
   "cell_type": "code",
   "execution_count": 4,
   "id": "cd05ed22",
   "metadata": {},
   "outputs": [
    {
     "name": "stdout",
     "output_type": "stream",
     "text": [
      "[1, 2, 3, 4]\n",
      "['ineuron', 'data science']\n"
     ]
    }
   ],
   "source": [
    "#q3:try to extract all the list entity\n",
    "\n",
    "for i in l:\n",
    "    if type(i) == list:\n",
    "        print(i)"
   ]
  },
  {
   "cell_type": "code",
   "execution_count": 5,
   "id": "9346b924",
   "metadata": {},
   "outputs": [
    {
     "name": "stdout",
     "output_type": "stream",
     "text": [
      "{'k1': 'sudh', 'k2': 'ineuron', 'k3': 'kumar', 3: 6, 7: 8}\n"
     ]
    }
   ],
   "source": [
    "#q4: extract all dict entities\n",
    "\n",
    "for i in l:\n",
    "    if type(i) == dict:\n",
    "        print(i)"
   ]
  },
  {
   "cell_type": "code",
   "execution_count": 6,
   "id": "6f2bd63c",
   "metadata": {},
   "outputs": [
    {
     "name": "stdout",
     "output_type": "stream",
     "text": [
      "(2, 3, 4, 5, 6)\n",
      "(3, 4, 5, 6, 7)\n"
     ]
    }
   ],
   "source": [
    "#q5: extract all tuple entities\n",
    "\n",
    "for i in l:\n",
    "    if type(i) == tuple:\n",
    "        print(i)"
   ]
  },
  {
   "cell_type": "code",
   "execution_count": 7,
   "id": "e834d1a2",
   "metadata": {},
   "outputs": [
    {
     "data": {
      "text/plain": [
       "[[1, 2, 3, 4],\n",
       " (2, 3, 4, 5, 6),\n",
       " (3, 4, 5, 6, 7),\n",
       " {4, 5, 23, 45},\n",
       " {'k1': 'sudh', 'k2': 'ineuron', 'k3': 'kumar', 3: 6, 7: 8},\n",
       " ['ineuron', 'data science']]"
      ]
     },
     "execution_count": 7,
     "metadata": {},
     "output_type": "execute_result"
    }
   ],
   "source": [
    "l"
   ]
  },
  {
   "cell_type": "code",
   "execution_count": 8,
   "id": "1f8ed966",
   "metadata": {},
   "outputs": [
    {
     "data": {
      "text/plain": [
       "[1, 2, 3, 4, 2, 3, 4, 5, 6, 3, 4, 5, 6, 7, 45, 4, 5, 23, 3, 6, 7, 8]"
      ]
     },
     "execution_count": 8,
     "metadata": {},
     "output_type": "execute_result"
    }
   ],
   "source": [
    "#q6: all numerical data it may be a part of dict key & values\n",
    "l1=[]\n",
    "for i in l:\n",
    "    if type(i) == list or type(i) == tuple or type(i) == set:\n",
    "        for j in i:\n",
    "            if type(j) == int:\n",
    "                l1.append(j)\n",
    "    if type(i) == dict:\n",
    "        for a,b in i.items():\n",
    "            if type(a) == int or type(b) == int:\n",
    "                l1.append(a)\n",
    "                l1.append(b)\n",
    "l1"
   ]
  },
  {
   "cell_type": "code",
   "execution_count": 9,
   "id": "f6da14cc",
   "metadata": {},
   "outputs": [
    {
     "data": {
      "text/plain": [
       "156"
      ]
     },
     "execution_count": 9,
     "metadata": {},
     "output_type": "execute_result"
    }
   ],
   "source": [
    "#q7: try to give summation of all numeric data\n",
    "sum(l1)"
   ]
  },
  {
   "cell_type": "code",
   "execution_count": 10,
   "id": "7654dabc",
   "metadata": {},
   "outputs": [
    {
     "data": {
      "text/plain": [
       "[1, 2, 3, 4, 2, 3, 4, 5, 6, 3, 4, 5, 6, 7, 45, 4, 5, 23, 3, 6, 7, 8]"
      ]
     },
     "execution_count": 10,
     "metadata": {},
     "output_type": "execute_result"
    }
   ],
   "source": [
    "l1"
   ]
  },
  {
   "cell_type": "code",
   "execution_count": 11,
   "id": "dcaaf5b2",
   "metadata": {},
   "outputs": [
    {
     "name": "stdout",
     "output_type": "stream",
     "text": [
      "1\n",
      "3\n"
     ]
    }
   ],
   "source": [
    "#q8: filter out all the odd values out of all numeric data which is a part of list\n",
    "for i in l:\n",
    "    if type(i) == list:\n",
    "        for j in i:\n",
    "            if type(j) == int and j % 2 != 0:\n",
    "                print(j)"
   ]
  },
  {
   "cell_type": "code",
   "execution_count": 12,
   "id": "6b7b01cb",
   "metadata": {},
   "outputs": [
    {
     "name": "stdout",
     "output_type": "stream",
     "text": [
      "ineuron\n",
      "ineuron\n"
     ]
    }
   ],
   "source": [
    "#q9: extract 'ineuron' out of this data\n",
    "\n",
    "for i in l:\n",
    "    if type(i) == dict:\n",
    "        for a,b in i.items():\n",
    "            if a == 'ineuron' or b == 'ineuron':\n",
    "                print(b)\n",
    "    if type(i) == list:\n",
    "        for j in i:\n",
    "            if j == 'ineuron':\n",
    "                print(j)"
   ]
  },
  {
   "cell_type": "code",
   "execution_count": 13,
   "id": "436578e1",
   "metadata": {},
   "outputs": [
    {
     "name": "stdout",
     "output_type": "stream",
     "text": [
      "1 : 1\n",
      "2 : 2\n",
      "3 : 4\n",
      "4 : 4\n",
      "5 : 3\n",
      "6 : 3\n",
      "7 : 2\n",
      "sudh : 1\n",
      "kumar : 1\n",
      "8 : 1\n",
      "k2 : 1\n",
      "45 : 1\n",
      "k3 : 1\n",
      "k1 : 1\n",
      "data science : 1\n",
      "23 : 1\n",
      "ineuron : 2\n"
     ]
    }
   ],
   "source": [
    "#q10: find out number of occurances of all the data\n",
    "l2=[]\n",
    "\n",
    "for i in l:\n",
    "    if type(i) == tuple or type(i) == list or type(i) == dict or type(i) == set:\n",
    "        for j in i:\n",
    "            if type(j) == str or type(j) == int:\n",
    "                l2.append(j)\n",
    "    if type(i) == dict:\n",
    "        for a,b, in i.items():\n",
    "            if type(b) == str or type(b) == int:\n",
    "                l2.append(b)\n",
    "for i in set(l2):\n",
    "    print(i, \":\", l2.count(i))"
   ]
  },
  {
   "cell_type": "code",
   "execution_count": 14,
   "id": "38d83ce3",
   "metadata": {},
   "outputs": [
    {
     "name": "stdout",
     "output_type": "stream",
     "text": [
      "5\n"
     ]
    }
   ],
   "source": [
    "#q11: find out number of keys in dict element\n",
    "for i in l:\n",
    "    if type(i) == dict:\n",
    "            print(len(i.keys()))"
   ]
  },
  {
   "cell_type": "code",
   "execution_count": 15,
   "id": "8fb999f6",
   "metadata": {},
   "outputs": [
    {
     "name": "stdout",
     "output_type": "stream",
     "text": [
      "k1\n",
      "sudh\n",
      "k2\n",
      "ineuron\n",
      "k3\n",
      "kumar\n",
      "ineuron\n",
      "data science\n"
     ]
    }
   ],
   "source": [
    "#q12: filter out all the str data\n",
    "l = [[1,2,3,4],(2,3,4,5,6),(3,4,5,6,7), set([23,4,5,45,4,4,5,45,45,4,5]), \n",
    "     {'k1':'sudh','k2':'ineuron','k3':'kumar',3:6, 7:8},['ineuron','data science']]\n",
    "\n",
    "for i in l:\n",
    "    if type(i) == dict:\n",
    "        for k,m in i.items():\n",
    "            if type(k) == str or type(m) == str:\n",
    "                print(k)\n",
    "                print(m)\n",
    "    if type(i) == list:\n",
    "        for j in i:\n",
    "            if type(j) == str:\n",
    "                print(j)"
   ]
  },
  {
   "cell_type": "code",
   "execution_count": 16,
   "id": "f1ecf9ce",
   "metadata": {},
   "outputs": [
    {
     "data": {
      "text/plain": [
       "['k1', 'k2', 'k3']"
      ]
     },
     "execution_count": 16,
     "metadata": {},
     "output_type": "execute_result"
    }
   ],
   "source": [
    "#q13: find out alphanumeric in data\n",
    "l4 = []\n",
    "for i in l:\n",
    "    if type(i) == dict:\n",
    "        for a,b in i.items():\n",
    "            if type(a) == str:\n",
    "                if i[a].isalnum() == True:\n",
    "                    l4.append(a)\n",
    "l4"
   ]
  },
  {
   "cell_type": "code",
   "execution_count": 17,
   "id": "83d63ba5",
   "metadata": {},
   "outputs": [
    {
     "name": "stdout",
     "output_type": "stream",
     "text": [
      "Product of <class 'list'> = 24\n",
      "Product of <class 'tuple'> = 720\n",
      "Product of <class 'tuple'> = 2520\n",
      "Product of <class 'set'> = 20700\n",
      "Product of <class 'dict'> = 1008\n",
      "Product of <class 'list'> = 1\n"
     ]
    }
   ],
   "source": [
    "#q14: find out multiplication of all the numeric values in the individual collection insider dataset\n",
    "\n",
    "l = [[1,2,3,4],(2,3,4,5,6),(3,4,5,6,7), set([23,4,5,45,4,4,5,45,45,4,5]), \n",
    "     {'k1':'sudh','k2':'ineuron','k3':'kumar',3:6, 7:8},['ineuron','data science']]\n",
    "\n",
    "\n",
    "for i in l:\n",
    "    x = 1\n",
    "    if type(i) == list or type(i) ==  tuple or type(i) == set :\n",
    "        for j in i:\n",
    "            if type(j) == int:\n",
    "                x*= j\n",
    "        print('Product of', type(i), \"=\" , x)\n",
    "    if type(i) == dict:\n",
    "        for m,n in i.items():\n",
    "            if type(m) == int and type(n) == int:\n",
    "                x = x * m\n",
    "                x = x * n\n",
    "        print('Product of', type(i), \"=\" , x)"
   ]
  },
  {
   "cell_type": "code",
   "execution_count": 18,
   "id": "53461b75",
   "metadata": {},
   "outputs": [
    {
     "data": {
      "text/plain": [
       "[1,\n",
       " 2,\n",
       " 3,\n",
       " 4,\n",
       " 2,\n",
       " 3,\n",
       " 4,\n",
       " 5,\n",
       " 6,\n",
       " 3,\n",
       " 4,\n",
       " 5,\n",
       " 6,\n",
       " 7,\n",
       " 45,\n",
       " 4,\n",
       " 5,\n",
       " 23,\n",
       " 'k1',\n",
       " 'sudh',\n",
       " 'k2',\n",
       " 'ineuron',\n",
       " 'k3',\n",
       " 'kumar',\n",
       " 3,\n",
       " 6,\n",
       " 7,\n",
       " 8,\n",
       " 'ineuron',\n",
       " 'data science']"
      ]
     },
     "execution_count": 18,
     "metadata": {},
     "output_type": "execute_result"
    }
   ],
   "source": [
    "#q15: try to unwrap all the collection inside collection and create a flat list\n",
    "l4=[]\n",
    "\n",
    "for i in l:\n",
    "    if type(i) == tuple or type(i) == set or type(i) == list:\n",
    "        for j in i:\n",
    "            if type(j) == str or type(j) == int:\n",
    "                l4.append(j)\n",
    "    if type(i) == dict:\n",
    "        for k,m in i.items():\n",
    "                l4.append(k)\n",
    "                l4.append(m)\n",
    "l4"
   ]
  }
 ],
 "metadata": {
  "kernelspec": {
   "display_name": "Python 3 (ipykernel)",
   "language": "python",
   "name": "python3"
  },
  "language_info": {
   "codemirror_mode": {
    "name": "ipython",
    "version": 3
   },
   "file_extension": ".py",
   "mimetype": "text/x-python",
   "name": "python",
   "nbconvert_exporter": "python",
   "pygments_lexer": "ipython3",
   "version": "3.9.7"
  }
 },
 "nbformat": 4,
 "nbformat_minor": 5
}
