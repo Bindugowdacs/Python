{
 "cells": [
  {
   "cell_type": "raw",
   "id": "599cfb78",
   "metadata": {},
   "source": [
    "Questions:\n",
    "s = \"this is My First Python programming class and i am learNING python string and its function\"\n",
    "1 . Try to extract data from index one to index 300 with a jump of 3 \n",
    "2. Try to reverse a string without using reverse function \n",
    "3. Try to split a string after conversion of entire string in uppercase \n",
    "4. try to convert the whole string into lower case \n",
    "5 . Try to capitalize the whole string \n",
    "6 . Write a diference between isalnum() and isalpha()\n",
    "7. Try to give an example of expand tab\n",
    "8 . Give an example of strip , lstrip and rstrip \n",
    "9.  Replace a string charecter by another charector by taking your own example \n",
    "10 . Try  to give a defination of string center function with and exmple \n",
    "11 . Write your own definition of compiler and interpretor without copy paste form internet in your own language\n",
    "12 . Python is a interpreted of compiled language give a clear ans with your understanding \n",
    "13 . Try to write a usecase of python with your understanding ."
   ]
  },
  {
   "cell_type": "code",
   "execution_count": 1,
   "id": "544d67b2",
   "metadata": {},
   "outputs": [],
   "source": [
    "s = \"this is My First Python programming class and i am learNING python string and its function\""
   ]
  },
  {
   "cell_type": "raw",
   "id": "fb9e149f",
   "metadata": {},
   "source": [
    "1 . Try to extract data from index one to index 300 with a jump of 3"
   ]
  },
  {
   "cell_type": "code",
   "execution_count": 2,
   "id": "8f07a89b",
   "metadata": {},
   "outputs": [
    {
     "data": {
      "text/plain": [
       "'h   r tnrrmglsnimeNGyosi dtfco'"
      ]
     },
     "execution_count": 2,
     "metadata": {},
     "output_type": "execute_result"
    }
   ],
   "source": [
    "s[1:300:3]"
   ]
  },
  {
   "cell_type": "raw",
   "id": "a11e38ab",
   "metadata": {},
   "source": [
    "2. Try to reverse a string without using reverse function "
   ]
  },
  {
   "cell_type": "code",
   "execution_count": 3,
   "id": "c5dc13a1",
   "metadata": {},
   "outputs": [
    {
     "data": {
      "text/plain": [
       "'Adwog udniB'"
      ]
     },
     "execution_count": 3,
     "metadata": {},
     "output_type": "execute_result"
    }
   ],
   "source": [
    "b = 'Bindu gowdA'\n",
    "b[::-1]"
   ]
  },
  {
   "cell_type": "raw",
   "id": "c94b4d5c",
   "metadata": {},
   "source": [
    "3. Try to split a string after conversion of entire string in uppercase"
   ]
  },
  {
   "cell_type": "code",
   "execution_count": 4,
   "id": "bb69fd43",
   "metadata": {},
   "outputs": [
    {
     "data": {
      "text/plain": [
       "['BI', 'DU GOWDA']"
      ]
     },
     "execution_count": 4,
     "metadata": {},
     "output_type": "execute_result"
    }
   ],
   "source": [
    "b=b.upper()\n",
    "b.split('N')"
   ]
  },
  {
   "cell_type": "raw",
   "id": "6cb67b82",
   "metadata": {},
   "source": [
    "4. try to convert the whole string into lower case "
   ]
  },
  {
   "cell_type": "code",
   "execution_count": 5,
   "id": "4b9d653e",
   "metadata": {},
   "outputs": [
    {
     "data": {
      "text/plain": [
       "'bindu gowda'"
      ]
     },
     "execution_count": 5,
     "metadata": {},
     "output_type": "execute_result"
    }
   ],
   "source": [
    "b.lower()"
   ]
  },
  {
   "cell_type": "raw",
   "id": "bafd9985",
   "metadata": {},
   "source": [
    "5 . Try to capitalize the whole string "
   ]
  },
  {
   "cell_type": "code",
   "execution_count": 6,
   "id": "3710d403",
   "metadata": {},
   "outputs": [
    {
     "data": {
      "text/plain": [
       "'BINDU GOWDA'"
      ]
     },
     "execution_count": 6,
     "metadata": {},
     "output_type": "execute_result"
    }
   ],
   "source": [
    "b.upper()"
   ]
  },
  {
   "cell_type": "raw",
   "id": "378c0bd0",
   "metadata": {},
   "source": [
    "6 . Write a diference between isalnum() and isalpha()"
   ]
  },
  {
   "cell_type": "code",
   "execution_count": 7,
   "id": "91270263",
   "metadata": {},
   "outputs": [
    {
     "data": {
      "text/plain": [
       "True"
      ]
     },
     "execution_count": 7,
     "metadata": {},
     "output_type": "execute_result"
    }
   ],
   "source": [
    "#a)isalnum function search for either alphabet or numeric character in a string\n",
    "#b)isalpha function search only for alphabet character\n",
    "x = \"28794238nxuhsadbc\"\n",
    "y = \"abcwdhuc\"\n",
    "x.isalnum()"
   ]
  },
  {
   "cell_type": "code",
   "execution_count": 8,
   "id": "a9338e58",
   "metadata": {},
   "outputs": [
    {
     "data": {
      "text/plain": [
       "True"
      ]
     },
     "execution_count": 8,
     "metadata": {},
     "output_type": "execute_result"
    }
   ],
   "source": [
    "y.isalpha()"
   ]
  },
  {
   "cell_type": "raw",
   "id": "62abbaaa",
   "metadata": {},
   "source": [
    "7. Try to give an example of expand tab"
   ]
  },
  {
   "cell_type": "code",
   "execution_count": 9,
   "id": "0193f110",
   "metadata": {},
   "outputs": [
    {
     "data": {
      "text/plain": [
       "'Ineuron Full    Stack   Data    Science Boot    Camp'"
      ]
     },
     "execution_count": 9,
     "metadata": {},
     "output_type": "execute_result"
    }
   ],
   "source": [
    "a = \"Ineuron\\tFull\\tStack\\tData\\tScience\\tBoot\\tCamp\"\n",
    "a.expandtabs()"
   ]
  },
  {
   "cell_type": "raw",
   "id": "5b7c87e5",
   "metadata": {},
   "source": [
    "8 . Give an example of strip , lstrip and rstrip"
   ]
  },
  {
   "cell_type": "code",
   "execution_count": 10,
   "id": "d9e323aa",
   "metadata": {},
   "outputs": [
    {
     "data": {
      "text/plain": [
       "'Bi ndu'"
      ]
     },
     "execution_count": 10,
     "metadata": {},
     "output_type": "execute_result"
    }
   ],
   "source": [
    "c = \"  Bi ndu  \"\n",
    "c.strip()"
   ]
  },
  {
   "cell_type": "code",
   "execution_count": 11,
   "id": "bbb7ebe4",
   "metadata": {},
   "outputs": [
    {
     "data": {
      "text/plain": [
       "'Bi ndu  '"
      ]
     },
     "execution_count": 11,
     "metadata": {},
     "output_type": "execute_result"
    }
   ],
   "source": [
    "c.lstrip()"
   ]
  },
  {
   "cell_type": "code",
   "execution_count": 12,
   "id": "5170ccca",
   "metadata": {},
   "outputs": [
    {
     "data": {
      "text/plain": [
       "'  Bi ndu'"
      ]
     },
     "execution_count": 12,
     "metadata": {},
     "output_type": "execute_result"
    }
   ],
   "source": [
    "c.rstrip()"
   ]
  },
  {
   "cell_type": "raw",
   "id": "6c3ad485",
   "metadata": {},
   "source": [
    "9.  Replace a string charecter by another charector by taking your own example"
   ]
  },
  {
   "cell_type": "code",
   "execution_count": 13,
   "id": "593cf128",
   "metadata": {},
   "outputs": [
    {
     "data": {
      "text/plain": [
       "'Bindu'"
      ]
     },
     "execution_count": 13,
     "metadata": {},
     "output_type": "execute_result"
    }
   ],
   "source": [
    "d = \"Bi17du\"\n",
    "d.replace('17','n')"
   ]
  },
  {
   "cell_type": "raw",
   "id": "2329433f",
   "metadata": {},
   "source": [
    "10 . Try  to give a defination of string center function with and exmple "
   ]
  },
  {
   "cell_type": "code",
   "execution_count": 14,
   "id": "40784107",
   "metadata": {},
   "outputs": [
    {
     "data": {
      "text/plain": [
       "'&&&&&&&&&&&&&&&&&&&&&&bindu&&&&&&&&&&&&&&&&&&&&&&&'"
      ]
     },
     "execution_count": 14,
     "metadata": {},
     "output_type": "execute_result"
    }
   ],
   "source": [
    "t = 'bindu'\n",
    "t.center(50, '&')\n",
    "\n",
    "#ANS: string center alligns the string in the center and fills the space(width) with the given character"
   ]
  },
  {
   "cell_type": "raw",
   "id": "b9dfcab0",
   "metadata": {},
   "source": [
    "11 . Write your own definition of compiler and interpretor without copy paste form internet in your own language\n",
    "\n",
    "ANS: Compiler scans the source code and convert it to executable form(compile the code) and shows the errors in the end\n",
    "     Interpretor translates one statement at a time and the errors are show in each statement"
   ]
  },
  {
   "cell_type": "raw",
   "id": "3ce3a4cc",
   "metadata": {},
   "source": [
    "12 . Python is a interpreted of compiled language give a clear ans with your understanding \n",
    "\n",
    "ANS: Python is a interpretor language, it runs code line by line and directly execute the code without compiling"
   ]
  },
  {
   "cell_type": "raw",
   "id": "e047b914",
   "metadata": {},
   "source": [
    "13 . Try to write a usecase of python with your understanding.\n",
    "\n",
    "ANS: 1. we can use python script for data cleaning and data manipulation\n",
    "2. using python script we can fetch data from the database and save the data in local repository and also we can share the data to clients(via automail/sftp)"
   ]
  }
 ],
 "metadata": {
  "kernelspec": {
   "display_name": "Python 3 (ipykernel)",
   "language": "python",
   "name": "python3"
  },
  "language_info": {
   "codemirror_mode": {
    "name": "ipython",
    "version": 3
   },
   "file_extension": ".py",
   "mimetype": "text/x-python",
   "name": "python",
   "nbconvert_exporter": "python",
   "pygments_lexer": "ipython3",
   "version": "3.9.7"
  }
 },
 "nbformat": 4,
 "nbformat_minor": 5
}
